{
 "cells": [
  {
   "cell_type": "code",
   "execution_count": 4,
   "metadata": {},
   "outputs": [],
   "source": [
    "bag_a = 0\n",
    "bag_b = 1\n",
    "\n",
    "ball_red = 0\n",
    "ball_white = 1\n",
    "\n",
    "prob_bag = []\n",
    "prob_bag.insert(bag_a, 1/2)\n",
    "prob_bag.insert(bag_b, 1/2)\n",
    "\n",
    "prob_ball = []\n",
    "\n",
    "prob_ball_a = []\n",
    "prob_ball_a.insert(ball_red, 2/3)\n",
    "prob_ball_a.insert(ball_white, 1/3)\n",
    "prob_ball.insert(bag_a, prob_ball_a)\n",
    "\n",
    "prob_ball_b = []\n",
    "prob_ball_b.insert(ball_red, 1/4)\n",
    "prob_ball_b.insert(ball_white, 3/4)\n",
    "prob_ball.insert(bag_b, prob_ball_b)"
   ]
  },
  {
   "cell_type": "code",
   "execution_count": 6,
   "metadata": {
    "pycharm": {
     "name": "#%%\n"
    }
   },
   "outputs": [],
   "source": [
    "def posterior(ball_list, bag):\n",
    "    if len(ball_list) == 1:\n",
    "        return prob_ball[bag][ball_list[0]] * prob_bag[bag]\n",
    "    else:\n",
    "        return prob_ball[bag][ball_list[0]] * posterior(ball_list[1:], bag)\n",
    "\n",
    "def posterior_a(ball_list):\n",
    "    return posterior(ball_list, bag_a) / (posterior(ball_list, bag_a) + posterior(ball_list, bag_b))\n"
   ]
  },
  {
   "cell_type": "code",
   "execution_count": 11,
   "metadata": {},
   "outputs": [
    {
     "name": "stdout",
     "output_type": "stream",
     "text": [
      "[0]\n",
      "0.7272727272727273\n"
     ]
    }
   ],
   "source": [
    "ball = [ball_red] * 1\n",
    "print(ball)\n",
    "print(posterior_a(ball))"
   ]
  },
  {
   "cell_type": "code",
   "execution_count": 12,
   "metadata": {},
   "outputs": [
    {
     "name": "stdout",
     "output_type": "stream",
     "text": [
      "[0, 0, 0, 0, 0, 1, 1, 1]\n",
      "0.9221091861712114\n"
     ]
    }
   ],
   "source": [
    "ball = [ball_red] * 5\n",
    "ball.extend([ball_white] * 3)\n",
    "print(ball)\n",
    "print(posterior_a(ball))"
   ]
  },
  {
   "cell_type": "code",
   "execution_count": null,
   "metadata": {},
   "outputs": [],
   "source": []
  }
 ],
 "metadata": {
  "kernelspec": {
   "display_name": "Python 3",
   "language": "python",
   "name": "python3"
  },
  "language_info": {
   "codemirror_mode": {
    "name": "ipython",
    "version": 3
   },
   "file_extension": ".py",
   "mimetype": "text/x-python",
   "name": "python",
   "nbconvert_exporter": "python",
   "pygments_lexer": "ipython3",
   "version": "3.8.3"
  }
 },
 "nbformat": 4,
 "nbformat_minor": 1
}