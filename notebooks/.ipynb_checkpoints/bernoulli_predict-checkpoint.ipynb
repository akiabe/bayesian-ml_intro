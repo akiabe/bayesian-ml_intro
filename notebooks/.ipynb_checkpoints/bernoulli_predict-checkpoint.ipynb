{
 "cells": [
  {
   "cell_type": "code",
   "execution_count": 4,
   "metadata": {
    "pycharm": {
     "is_executing": true
    }
   },
   "outputs": [],
   "source": [
    "import numpy as np\n",
    "from scipy import stats\n",
    "from matplotlib import pyplot as plt"
   ]
  },
  {
   "cell_type": "code",
   "execution_count": 21,
   "metadata": {
    "pycharm": {
     "name": "#%%\n"
    }
   },
   "outputs": [
    {
     "name": "stdout",
     "output_type": "stream",
     "text": [
      "count 0 in bern_5: 2\n",
      "count 0 in bern_10: 1\n",
      "count 0 in bern_25: 10\n",
      "count 0 in bern_100: 27\n"
     ]
    }
   ],
   "source": [
    "bern_5 = sum(filter(lambda n:n%2==1, stats.bernoulli.rvs(0.25, size=5)))\n",
    "bern_10 = sum(filter(lambda n:n%2==1, stats.bernoulli.rvs(0.25, size=10)))\n",
    "bern_25 = sum(filter(lambda n:n%2==1, stats.bernoulli.rvs(0.25, size=25)))\n",
    "bern_100 = sum(filter(lambda n:n%2==1, stats.bernoulli.rvs(0.25, size=100)))\n",
    "\n",
    "print(f\"count 0 in bern_5: {bern_5}\")\n",
    "print(f\"count 0 in bern_10: {bern_10}\")\n",
    "print(f\"count 0 in bern_25: {bern_25}\")\n",
    "print(f\"count 0 in bern_100: {bern_100}\")"
   ]
  },
  {
   "cell_type": "code",
   "execution_count": 13,
   "metadata": {},
   "outputs": [],
   "source": [
    "beta_init_params = [\n",
    "    [0.5, 0.5], \n",
    "    [1.0, 1.0], \n",
    "    [10.0, 5.0], \n",
    "    [5.0, 10.0],\n",
    "]\n",
    "\n",
    "beta_cont_params = [\n",
    "    [0, 0], \n",
    "    [bern_5, 5 - bern_5], \n",
    "    [bern_10, 10 - bern_10], \n",
    "    [bern_25, 25 - bern_25],\n",
    "    [bern_100, 100 - bern_100],\n",
    "]\n",
    "\n",
    "X = np.linspace(0, 1, 1000)\n",
    "posterior_list = []\n",
    "\n",
    "for beta_init_param in beta_init_params:\n",
    "    for beta_cont_param in beta_cont_params:\n",
    "        Beta = stats.beta(\n",
    "            beta_cont_params[0] + beta_init_param[0],\n",
    "            beta_cont_params[1] + beta_init_param[1],\n",
    "        )\n",
    "        posterior = Beta.pdf(x)\n",
    "        y\n",
    "        "
   ]
  },
  {
   "cell_type": "code",
   "execution_count": null,
   "metadata": {},
   "outputs": [],
   "source": []
  },
  {
   "cell_type": "code",
   "execution_count": 19,
   "metadata": {},
   "outputs": [
    {
     "data": {
      "image/png": "[encoded data removed]",
      "text/plain": [
       "<Figure size 1080x576 with 20 Axes>"
      ]
     },
     "metadata": {
      "needs_background": "light"
     },
     "output_type": "display_data"
    }
   ],
   "source": [
    "x = np.linspace(0, 1, 1000)\n",
    "y_vals = []\n",
    "\n",
    "num_rows = len(beta_init_params)\n",
    "num_cols = len(beta_cont_params)\n",
    "fig, axis = plt.subplots(\n",
    "    num_rows, \n",
    "    num_cols, \n",
    "    figsize=(3*num_cols, 2*num_rows),\n",
    ")"
   ]
  },
  {
   "cell_type": "code",
   "execution_count": null,
   "metadata": {},
   "outputs": [],
   "source": []
  },
  {
   "cell_type": "code",
   "execution_count": null,
   "metadata": {},
   "outputs": [],
   "source": []
  },
  {
   "cell_type": "code",
   "execution_count": null,
   "metadata": {},
   "outputs": [],
   "source": []
  },
  {
   "cell_type": "code",
   "execution_count": null,
   "metadata": {},
   "outputs": [],
   "source": []
  },
  {
   "cell_type": "code",
   "execution_count": null,
   "metadata": {},
   "outputs": [],
   "source": []
  },
  {
   "cell_type": "code",
   "execution_count": null,
   "metadata": {},
   "outputs": [],
   "source": []
  },
  {
   "cell_type": "code",
   "execution_count": null,
   "metadata": {},
   "outputs": [],
   "source": []
  }
 ],
 "metadata": {
  "kernelspec": {
   "display_name": "Python 3",
   "language": "python",
   "name": "python3"
  },
  "language_info": {
   "codemirror_mode": {
    "name": "ipython",
    "version": 3
   },
   "file_extension": ".py",
   "mimetype": "text/x-python",
   "name": "python",
   "nbconvert_exporter": "python",
   "pygments_lexer": "ipython3",
   "version": "3.8.3"
  }
 },
 "nbformat": 4,
 "nbformat_minor": 1
}
