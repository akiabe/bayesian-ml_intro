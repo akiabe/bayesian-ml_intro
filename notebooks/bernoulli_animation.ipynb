{
 "cells": [
  {
   "cell_type": "code",
   "execution_count": 2,
   "metadata": {
    "pycharm": {
     "is_executing": true
    }
   },
   "outputs": [],
   "source": [
    "import numpy as np\n",
    "from scipy import stats\n",
    "from matplotlib import pyplot as plt\n",
    "from matplotlib import animation as animation"
   ]
  },
  {
   "cell_type": "code",
   "execution_count": 3,
   "metadata": {},
   "outputs": [],
   "source": [
    "mu_truth = 0.4\n",
    "a = 1.0\n",
    "b = 1.0\n",
    "mu_star = a / (a + b)\n",
    "mu_line = np.arange(0.0, 1.001, 0.001)\n",
    "N = 100"
   ]
  },
  {
   "cell_type": "code",
   "execution_count": 4,
   "metadata": {},
   "outputs": [],
   "source": [
    "x_n = np.empty(N)\n",
    "trace_a = [a]\n",
    "trace_b = [b]\n",
    "trace_mu = [mu_star]\n",
    "trace_posterior = [stats.beta.pdf(x=mu_line, a=a, b=b)]\n",
    "trace_predict = [[1 - mu_star, mu_star]]\n",
    "\n",
    "for i in range(N):\n",
    "    x_n[i] = np.random.binomial(n=1, p=mu_truth, size=1)\n",
    "    \n",
    "    a += x_n[i]\n",
    "    b += 1 - x_n[i]\n",
    "    trace_posterior.append(stats.beta.pdf(x=mu_line, a=a, b=b))\n",
    "    \n",
    "    mu_star = a / (a + b)\n",
    "    trace_predict.append([1 - mu_star, mu_star])\n",
    "    \n",
    "    trace_a.append(a)\n",
    "    trace_b.append(b)\n",
    "    trace_mu.append(mu_star)"
   ]
  },
  {
   "cell_type": "code",
   "execution_count": 5,
   "metadata": {},
   "outputs": [],
   "source": [
    "def update_posterior(n):\n",
    "    plt.cla()\n",
    "    \n",
    "    plt.plot(mu_line, trace_posterior[n])\n",
    "    plt.vlines(\n",
    "        x=mu_truth, \n",
    "        ymin=0, \n",
    "        ymax=np.nanmax(trace_posterior), \n",
    "        linestyles=\"--\", \n",
    "        color=\"red\",\n",
    "    )\n",
    "    plt.xlabel(\"mu\")\n",
    "    plt.ylabel(\"Density\")\n",
    "    plt.suptitle(\"Beta Distribution\")\n",
    "    plt.title(\n",
    "        f\"N={N}, a_hat={trace_a[n]}, b_hat={trace_b[n]}\", \n",
    "        loc=\"left\",\n",
    "    )    "
   ]
  },
  {
   "cell_type": "code",
   "execution_count": 6,
   "metadata": {},
   "outputs": [
    {
     "data": {
      "image/png": "[encoded data removed]",
      "text/plain": [
       "<Figure size 864x648 with 1 Axes>"
      ]
     },
     "metadata": {
      "needs_background": "light"
     },
     "output_type": "display_data"
    }
   ],
   "source": [
    "fig = plt.figure(figsize=(12, 9))\n",
    "\n",
    "posterior_anime = animation.FuncAnimation(\n",
    "    fig,\n",
    "    update_posterior, \n",
    "    frames=N + 1, \n",
    "    interval=100,\n",
    ")\n",
    "posterior_anime.save(\"ch3_2_1_Posterior.gif\")"
   ]
  },
  {
   "cell_type": "code",
   "execution_count": 7,
   "metadata": {},
   "outputs": [],
   "source": [
    "x_point = np.array([0, 1])"
   ]
  },
  {
   "cell_type": "code",
   "execution_count": null,
   "metadata": {},
   "outputs": [],
   "source": [
    "def update_predict(n):\n",
    "    plt.cla()\n",
    "    \n",
    "    plt.bar(\n",
    "        x=x_point, \n",
    "        height=[1 - mu_truth, mu_truth], \n",
    "        color=\"white\", \n",
    "        edgecolor=\"red\", \n",
    "        linestyle=\"dashed', \n",
    "        label=\"true',\n",
    "    )\n",
    "    plt.bar(\n",
    "        x=x_point, \n",
    "        height=trace_predict[n], \n",
    "        label=\"predict\",\n",
    "    )\n",
    "    plt.xlabel(\"x\")\n",
    "    plt.ylabel(\"prob\")\n",
    "    plt.xticks(ticks=x_point, labels=x_point)\n",
    "    plt.suptitle(\"Bernoulli Distribution\")\n",
    "    plt.title(f\"N={, \\hat{\\mu}_{*}=' + str(np.round(trace_mu[n], 2)) + '$', loc='left')\n",
    "    plt.ylim(0.0, 1.0)\n",
    "    plt.legend()"
   ]
  },
  {
   "cell_type": "code",
   "execution_count": null,
   "metadata": {},
   "outputs": [],
   "source": []
  },
  {
   "cell_type": "code",
   "execution_count": null,
   "metadata": {},
   "outputs": [],
   "source": []
  },
  {
   "cell_type": "code",
   "execution_count": null,
   "metadata": {},
   "outputs": [],
   "source": []
  }
 ],
 "metadata": {
  "kernelspec": {
   "display_name": "Python 3",
   "language": "python",
   "name": "python3"
  },
  "language_info": {
   "codemirror_mode": {
    "name": "ipython",
    "version": 3
   },
   "file_extension": ".py",
   "mimetype": "text/x-python",
   "name": "python",
   "nbconvert_exporter": "python",
   "pygments_lexer": "ipython3",
   "version": "3.8.3"
  }
 },
 "nbformat": 4,
 "nbformat_minor": 1
}