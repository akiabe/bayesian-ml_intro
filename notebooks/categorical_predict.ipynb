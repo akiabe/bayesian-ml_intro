{
 "cells": [
  {
   "cell_type": "code",
   "execution_count": 3,
   "metadata": {},
   "outputs": [],
   "source": [
    "import numpy as np\n",
    "import math\n",
    "from scipy import stats\n",
    "from matplotlib import pyplot as plt"
   ]
  },
  {
   "cell_type": "code",
   "execution_count": 8,
   "metadata": {
    "pycharm": {
     "name": "#%%\n"
    }
   },
   "outputs": [
    {
     "name": "stdout",
     "output_type": "stream",
     "text": [
      "[0.3 0.5 0.2]\n",
      "[1 2 3]\n",
      "[[1. 0. 0.]\n",
      " [0. 1. 0.]\n",
      " [0. 0. 1.]]\n"
     ]
    }
   ],
   "source": [
    "K = 3\n",
    "\n",
    "pi = np.array([0.3, 0.5, 0.2])\n",
    "k_line = np.arange(1, K + 1)\n",
    "s_oh = np.identity(K)\n",
    "\n",
    "print(pi)\n",
    "print(k_line)\n",
    "print(s_oh)"
   ]
  },
  {
   "cell_type": "code",
   "execution_count": 25,
   "metadata": {},
   "outputs": [
    {
     "data": {
      "image/png": "[encoded data removed]",
      "text/plain": [
       "<Figure size 432x288 with 1 Axes>"
      ]
     },
     "metadata": {
      "needs_background": "light"
     },
     "output_type": "display_data"
    }
   ],
   "source": [
    "plt.bar(x=k_line, height=pi)\n",
    "\n",
    "plt.title(\"Categorical distribution\")\n",
    "plt.xlabel(\"K\")\n",
    "plt.ylabel(\"Prob\")\n",
    "plt.xticks(ticks=k_line, labels=k_line)\n",
    "plt.show()"
   ]
  },
  {
   "cell_type": "code",
   "execution_count": 10,
   "metadata": {},
   "outputs": [
    {
     "data": {
      "text/plain": [
       "array([0.3, 0.5, 0.2])"
      ]
     },
     "execution_count": 10,
     "metadata": {},
     "output_type": "execute_result"
    }
   ],
   "source": [
    "cond_prob_pi_s = np.prod(\n",
    "    pi ** s_oh,\n",
    "    axis=1,\n",
    ")\n",
    "cond_prob_pi_s"
   ]
  },
  {
   "cell_type": "code",
   "execution_count": 21,
   "metadata": {},
   "outputs": [
    {
     "name": "stdout",
     "output_type": "stream",
     "text": [
      "[[1 0 0]\n",
      " [1 0 0]\n",
      " [0 0 1]\n",
      " [0 0 1]\n",
      " [1 0 0]]\n",
      "[18 23  9]\n"
     ]
    }
   ],
   "source": [
    "size = 50\n",
    "s_n = np.random.multinomial(\n",
    "    n=1, \n",
    "    pvals=pi, \n",
    "    size=size,\n",
    ")\n",
    "\n",
    "print(s_n[:5])\n",
    "print(np.sum(s_n, axis=0))"
   ]
  },
  {
   "cell_type": "code",
   "execution_count": 26,
   "metadata": {},
   "outputs": [
    {
     "data": {
      "image/png": "[encoded data removed]",
      "text/plain": [
       "<Figure size 432x288 with 1 Axes>"
      ]
     },
     "metadata": {
      "needs_background": "light"
     },
     "output_type": "display_data"
    }
   ],
   "source": [
    "plt.bar(x=k_line, height=np.sum(s_n, axis=0))\n",
    "\n",
    "plt.title(\"Observation data\")\n",
    "plt.xlabel(\"K\")\n",
    "plt.ylabel(\"Prob\")\n",
    "plt.xticks(ticks=k_line, labels=k_line)\n",
    "plt.show()"
   ]
  },
  {
   "cell_type": "code",
   "execution_count": 31,
   "metadata": {},
   "outputs": [],
   "source": [
    "alpha_k = np.array([1.0, 1.0, 1.0])\n",
    "\n",
    "point_vec = np.arange(0.0, 1.001, 0.02)\n",
    "X, Y, Z = np.meshgrid(point_vec, point_vec, point_vec)\n",
    "pi_point = np.array([\n",
    "    list(X.flatten()), \n",
    "    list(Y.flatten()), \n",
    "    list(Z.flatten())]).T\n",
    "pi_point = pi_point[1:, :]\n",
    "pi_point /= np.sum(pi_point, axis=1, keepdims=True)\n",
    "pi_point = np.unique(pi_point, axis=0)"
   ]
  },
  {
   "cell_type": "code",
   "execution_count": 40,
   "metadata": {},
   "outputs": [
    {
     "data": {
      "text/plain": [
       "array([[1, 1, 1],\n",
       "       [1, 1, 2],\n",
       "       [2, 1, 1],\n",
       "       [2, 1, 2],\n",
       "       [1, 2, 1],\n",
       "       [1, 2, 2],\n",
       "       [2, 2, 1],\n",
       "       [2, 2, 2]])"
      ]
     },
     "execution_count": 40,
     "metadata": {},
     "output_type": "execute_result"
    }
   ],
   "source": [
    "tmp_vec = np.array([1, 2])\n",
    "tmp_X, tmp_Y, tmp_Z = np.meshgrid(tmp_vec, tmp_vec, tmp_vec)\n",
    "np.array([\n",
    "    list(tmp_X.flatten()), \n",
    "    list(tmp_Y.flatten()), \n",
    "    list(tmp_Z.flatten()),\n",
    "]).T"
   ]
  },
  {
   "cell_type": "code",
   "execution_count": 47,
   "metadata": {},
   "outputs": [
    {
     "data": {
      "text/plain": [
       "array([2., 2., 2., ..., 2., 2., 2.])"
      ]
     },
     "execution_count": 47,
     "metadata": {},
     "output_type": "execute_result"
    }
   ],
   "source": [
    "normalizer = math.lgamma(np.sum(alpha_k)) - np.sum([math.lgamma(a) for a in alpha_k])\n",
    "prior = np.exp(normalizer) * np.prod(pi_point ** (alpha_k - 1), axis=1)\n",
    "prior"
   ]
  },
  {
   "cell_type": "code",
   "execution_count": 48,
   "metadata": {},
   "outputs": [
    {
     "data": {
      "image/png": "[encoded data removed]",
      "text/plain": [
       "<Figure size 432x288 with 2 Axes>"
      ]
     },
     "metadata": {
      "needs_background": "light"
     },
     "output_type": "display_data"
    }
   ],
   "source": [
    "tri_x = pi_point[:, 1] + pi_point[:, 2] / 2\n",
    "tri_y = np.sqrt(3) * pi_point[:, 2] / 2\n",
    "plt.scatter(tri_x, tri_y, c=prior) \n",
    "\n",
    "plt.title(\"Dirichlet distribution\")\n",
    "plt.xticks(ticks=[0.0, 1.0], labels=['(1, 0, 0)', '(0, 1, 0)'])\n",
    "plt.yticks(ticks=[0.0, 0.87], labels=['(1, 0, 0)', '(0, 0, 1)']) \n",
    "plt.colorbar()\n",
    "plt.gca().set_aspect('equal')\n",
    "plt.show()"
   ]
  },
  {
   "cell_type": "code",
   "execution_count": 49,
   "metadata": {},
   "outputs": [
    {
     "data": {
      "text/plain": [
       "array([19., 24., 10.])"
      ]
     },
     "execution_count": 49,
     "metadata": {},
     "output_type": "execute_result"
    }
   ],
   "source": [
    "alpha_hat_k = np.sum(s_n, axis=0) + alpha_k\n",
    "alpha_hat_k"
   ]
  },
  {
   "cell_type": "code",
   "execution_count": 50,
   "metadata": {},
   "outputs": [
    {
     "data": {
      "text/plain": [
       "array([0., 0., 0., ..., 0., 0., 0.])"
      ]
     },
     "execution_count": 50,
     "metadata": {},
     "output_type": "execute_result"
    }
   ],
   "source": [
    "normalizer = math.lgamma(np.sum(alpha_hat_k)) - np.sum([math.lgamma(a) for a in alpha_hat_k])\n",
    "posterior = np.exp(normalizer) * np.prod(pi_point ** (alpha_hat_k - 1), axis=1)\n",
    "posterior"
   ]
  },
  {
   "cell_type": "code",
   "execution_count": 52,
   "metadata": {},
   "outputs": [
    {
     "data": {
      "image/png": "[encoded data removed]",
      "text/plain": [
       "<Figure size 432x288 with 2 Axes>"
      ]
     },
     "metadata": {
      "needs_background": "light"
     },
     "output_type": "display_data"
    }
   ],
   "source": [
    "tri_x_truth = pi[1] + pi[2] / 2\n",
    "tri_y_truth = np.sqrt(3) * pi[2] / 2\n",
    "plt.scatter(tri_x, tri_y, c=posterior) \n",
    "\n",
    "plt.title(\"Dirichlet distribution\")\n",
    "plt.xticks(ticks=[0.0, 1.0], labels=['(1, 0, 0)', '(0, 1, 0)'])\n",
    "plt.yticks(ticks=[0.0, 0.87], labels=['(1, 0, 0)', '(0, 0, 1)']) \n",
    "plt.colorbar()\n",
    "plt.gca().set_aspect('equal')\n",
    "plt.scatter(tri_x_truth, tri_y_truth, marker='x', color='black', s=200)\n",
    "plt.show()"
   ]
  },
  {
   "cell_type": "code",
   "execution_count": 53,
   "metadata": {},
   "outputs": [
    {
     "data": {
      "text/plain": [
       "array([0.35849057, 0.45283019, 0.18867925])"
      ]
     },
     "execution_count": 53,
     "metadata": {},
     "output_type": "execute_result"
    }
   ],
   "source": [
    "pi_hat_star_k = alpha_hat_k / np.sum(alpha_hat_k)\n",
    "pi_hat_star_k = (np.sum(s_n, axis=0) + alpha_k) / np.sum(np.sum(s_n, axis=0) + alpha_k)\n",
    "pi_hat_star_k"
   ]
  },
  {
   "cell_type": "code",
   "execution_count": 54,
   "metadata": {},
   "outputs": [
    {
     "data": {
      "image/png": "[encoded data removed]",
      "text/plain": [
       "<Figure size 432x288 with 1 Axes>"
      ]
     },
     "metadata": {
      "needs_background": "light"
     },
     "output_type": "display_data"
    }
   ],
   "source": [
    "plt.bar(\n",
    "    x=k_line, \n",
    "    height=pi, \n",
    "    label='truth',\n",
    "    alpha=0.5, \n",
    "    color='white', \n",
    "    edgecolor='red', \n",
    "    linestyle='dashed',\n",
    ")\n",
    "plt.bar(\n",
    "    x=k_line, \n",
    "    height=pi_hat_star_k, \n",
    "    label='predict', \n",
    "    alpha=0.5, \n",
    "    color='purple',\n",
    ")\n",
    "\n",
    "plt.title(\"Categorical distribution\")\n",
    "plt.xlabel(\"K\")\n",
    "plt.ylabel(\"Prob\")\n",
    "plt.xticks(ticks=k_line, labels=k_line)\n",
    "plt.show()"
   ]
  },
  {
   "cell_type": "code",
   "execution_count": null,
   "metadata": {},
   "outputs": [],
   "source": []
  },
  {
   "cell_type": "code",
   "execution_count": null,
   "metadata": {},
   "outputs": [],
   "source": []
  }
 ],
 "metadata": {
  "kernelspec": {
   "display_name": "Python 3",
   "language": "python",
   "name": "python3"
  },
  "language_info": {
   "codemirror_mode": {
    "name": "ipython",
    "version": 3
   },
   "file_extension": ".py",
   "mimetype": "text/x-python",
   "name": "python",
   "nbconvert_exporter": "python",
   "pygments_lexer": "ipython3",
   "version": "3.8.3"
  }
 },
 "nbformat": 4,
 "nbformat_minor": 1
}