{
 "cells": [
  {
   "cell_type": "code",
   "execution_count": 32,
   "metadata": {},
   "outputs": [],
   "source": [
    "import warnings\n",
    "warnings.filterwarnings(\"ignore\")\n",
    "\n",
    "import numpy as np\n",
    "import math\n",
    "from scipy import stats\n",
    "from matplotlib import pyplot as plt"
   ]
  },
  {
   "cell_type": "code",
   "execution_count": 33,
   "metadata": {
    "pycharm": {
     "name": "#%%\n"
    }
   },
   "outputs": [],
   "source": [
    "lambda_truth = 4.0"
   ]
  },
  {
   "cell_type": "code",
   "execution_count": 34,
   "metadata": {},
   "outputs": [
    {
     "name": "stdout",
     "output_type": "stream",
     "text": [
      "[0.018 0.073 0.147 0.195 0.195 0.156 0.104 0.06  0.03  0.013 0.005 0.002\n",
      " 0.001 0.    0.    0.   ]\n"
     ]
    }
   ],
   "source": [
    "x_line = np.arange(4 * lambda_truth)\n",
    "\n",
    "#true_model = np.exp(\n",
    "#    x_line * np.log(lambda_truth) - [math.lgamma(x + 1) for x in x_line] - lambda_truth\n",
    "#)\n",
    "\n",
    "\n",
    "true_model = stats.poisson.pmf(\n",
    "    k=x_line, \n",
    "    mu=lambda_truth,\n",
    ")\n",
    "\n",
    "print(np.round(true_model, 3))"
   ]
  },
  {
   "cell_type": "code",
   "execution_count": 35,
   "metadata": {},
   "outputs": [
    {
     "data": {
      "image/png": "[encoded data removed]",
      "text/plain": [
       "<Figure size 432x288 with 1 Axes>"
      ]
     },
     "metadata": {
      "needs_background": "light"
     },
     "output_type": "display_data"
    }
   ],
   "source": [
    "plt.bar(\n",
    "    x=x_line, \n",
    "    height=true_model,\n",
    ")\n",
    "plt.xlabel('x')\n",
    "plt.ylabel('prob')\n",
    "plt.suptitle('Poisson Distribution')\n",
    "plt.title(\n",
    "    f'lambda={lambda_truth}', \n",
    "    loc='left',\n",
    ")\n",
    "plt.show()"
   ]
  },
  {
   "cell_type": "code",
   "execution_count": 36,
   "metadata": {},
   "outputs": [
    {
     "name": "stdout",
     "output_type": "stream",
     "text": [
      "[4 3 5 5 1 2 2 1 6 2]\n"
     ]
    }
   ],
   "source": [
    "N = 50\n",
    "x_n = np.random.poisson(lam=lambda_truth, size=N)\n",
    "\n",
    "print(x_n[:10])"
   ]
  },
  {
   "cell_type": "code",
   "execution_count": 37,
   "metadata": {},
   "outputs": [
    {
     "data": {
      "image/png": "[encoded data removed]",
      "text/plain": [
       "<Figure size 432x288 with 1 Axes>"
      ]
     },
     "metadata": {
      "needs_background": "light"
     },
     "output_type": "display_data"
    }
   ],
   "source": [
    "plt.bar(\n",
    "    x=x_line, \n",
    "    height=[np.sum(x_n == x) for x in x_line],\n",
    ")\n",
    "plt.xlabel('x')\n",
    "plt.ylabel('count')\n",
    "plt.suptitle('Observation Data')\n",
    "plt.title(\n",
    "    f'N={N}, lambda={lambda_truth}', \n",
    "    loc='left',\n",
    ")\n",
    "plt.show()"
   ]
  },
  {
   "cell_type": "code",
   "execution_count": 38,
   "metadata": {},
   "outputs": [],
   "source": [
    "a = 1\n",
    "b = 1"
   ]
  },
  {
   "cell_type": "code",
   "execution_count": 43,
   "metadata": {},
   "outputs": [
    {
     "name": "stdout",
     "output_type": "stream",
     "text": [
      "[1.    0.999 0.998 ... 0.    0.    0.   ]\n"
     ]
    }
   ],
   "source": [
    "lambda_line = np.arange(0, 2 * lambda_truth, 0.001)\n",
    "\n",
    "#ln_C_gam = a * np.log(b) - math.lgamma(a)\n",
    "#prior = np.exp(ln_C_gam + (a - 1) * np.log(lambda_line) - b * lambda_line)\n",
    "\n",
    "prior = stats.gamma.pdf(\n",
    "    x=lambda_line, \n",
    "    a=a, \n",
    "    scale=1 / b,\n",
    ")\n",
    "\n",
    "print(np.round(prior, 3))"
   ]
  },
  {
   "cell_type": "code",
   "execution_count": 44,
   "metadata": {},
   "outputs": [
    {
     "data": {
      "image/png": "[encoded data removed]",
      "text/plain": [
       "<Figure size 432x288 with 1 Axes>"
      ]
     },
     "metadata": {
      "needs_background": "light"
     },
     "output_type": "display_data"
    }
   ],
   "source": [
    "plt.bar(\n",
    "    x=lambda_line, \n",
    "    height=prior,\n",
    ")\n",
    "plt.xlabel('lambda')\n",
    "plt.ylabel('density')\n",
    "plt.suptitle('Gamma Distribution')\n",
    "plt.title(\n",
    "    f'a={a}, b={b}', \n",
    "    loc='left',\n",
    ")\n",
    "plt.show()"
   ]
  },
  {
   "cell_type": "code",
   "execution_count": 45,
   "metadata": {},
   "outputs": [
    {
     "name": "stdout",
     "output_type": "stream",
     "text": [
      "206\n",
      "51\n"
     ]
    }
   ],
   "source": [
    "a_hat = np.sum(x_n) + a\n",
    "b_hat = N + b\n",
    "\n",
    "print(a_hat)\n",
    "print(b_hat)"
   ]
  },
  {
   "cell_type": "code",
   "execution_count": 47,
   "metadata": {},
   "outputs": [
    {
     "name": "stdout",
     "output_type": "stream",
     "text": [
      "[0. 0. 0. ... 0. 0. 0.]\n"
     ]
    }
   ],
   "source": [
    "#ln_C_gam = a_hat * np.log(b_hat) - math.lgamma(a_hat)\n",
    "#posterior = np.exp(\n",
    "#    ln_C_gam + (a_hat - 1) * np.log(lambda_line) - b_hat * lambda_line\n",
    "#)\n",
    "\n",
    "posterior = stats.gamma.pdf(\n",
    "    x=lambda_line, \n",
    "    a=a_hat, \n",
    "    scale=1 / b_hat,\n",
    ")\n",
    "\n",
    "print(np.round(posterior, 5))"
   ]
  },
  {
   "cell_type": "code",
   "execution_count": 48,
   "metadata": {},
   "outputs": [
    {
     "data": {
      "image/png": "[encoded data removed]",
      "text/plain": [
       "<Figure size 432x288 with 1 Axes>"
      ]
     },
     "metadata": {
      "needs_background": "light"
     },
     "output_type": "display_data"
    }
   ],
   "source": [
    "plt.plot(\n",
    "    lambda_line, \n",
    "    posterior,\n",
    ")\n",
    "plt.vlines(\n",
    "    x=lambda_truth, \n",
    "    ymin=0, \n",
    "    ymax=max(posterior), \n",
    "    color='red', \n",
    "    linestyle='--',\n",
    ")\n",
    "plt.xlabel('lambda')\n",
    "plt.ylabel('density')\n",
    "plt.suptitle('Gamma Distribution')\n",
    "plt.title(\n",
    "    f'N={N}, a_hat={a_hat}, b_hat={b}=', \n",
    "    loc='left',\n",
    ")\n",
    "plt.show()"
   ]
  },
  {
   "cell_type": "code",
   "execution_count": 49,
   "metadata": {},
   "outputs": [
    {
     "name": "stdout",
     "output_type": "stream",
     "text": [
      "206\n",
      "0.019230769230769232\n"
     ]
    }
   ],
   "source": [
    "r_hat = a_hat\n",
    "p_hat = 1 / (b_hat + 1)\n",
    "\n",
    "print(r_hat)\n",
    "print(p_hat)"
   ]
  },
  {
   "cell_type": "code",
   "execution_count": 50,
   "metadata": {},
   "outputs": [
    {
     "name": "stdout",
     "output_type": "stream",
     "text": [
      "[0.018 0.073 0.144 0.193 0.193 0.156 0.106 0.062 0.032 0.014 0.006 0.002\n",
      " 0.001 0.    0.    0.   ]\n"
     ]
    }
   ],
   "source": [
    "#ln_C_NB = np.array(\n",
    "#    [math.lgamma(x + r_hat) - math.lgamma(x + 1) for x in x_line]\n",
    "#) - math.lgamma(r_hat)\n",
    "\n",
    "#predict = np.exp(ln_C_NB + r_hat * np.log(1 - p_hat) + x_line * np.log(p_hat))\n",
    "\n",
    "predict = stats.nbinom.pmf(\n",
    "    k=x_line, \n",
    "    n=r_hat, \n",
    "    p=1 - p_hat,\n",
    ")\n",
    "\n",
    "print(np.round(predict, 3))"
   ]
  },
  {
   "cell_type": "code",
   "execution_count": 51,
   "metadata": {},
   "outputs": [
    {
     "data": {
      "image/png": "[encoded data removed]",
      "text/plain": [
       "<Figure size 432x288 with 1 Axes>"
      ]
     },
     "metadata": {
      "needs_background": "light"
     },
     "output_type": "display_data"
    }
   ],
   "source": [
    "plt.bar(\n",
    "    x=x_line, \n",
    "    height=true_model, \n",
    "    label='true', \n",
    "    alpha=0.5, \n",
    "    color='white', \n",
    "    edgecolor='red', \n",
    "    linestyle='--',\n",
    ")\n",
    "plt.bar(\n",
    "    x=x_line, \n",
    "    height=predict, \n",
    "    label='predict', \n",
    "    alpha=0.5, \n",
    ")\n",
    "plt.xlabel('x')\n",
    "plt.ylabel('prod')\n",
    "plt.suptitle('Negative Binomial Distribution')\n",
    "plt.title(\n",
    "    f'N={N}, r_hat={r_hat}, p_hat={np.round(p_hat, 3)}', \n",
    "    loc='left',\n",
    ")\n",
    "plt.show()"
   ]
  },
  {
   "cell_type": "code",
   "execution_count": null,
   "metadata": {},
   "outputs": [],
   "source": []
  }
 ],
 "metadata": {
  "kernelspec": {
   "display_name": "Python 3",
   "language": "python",
   "name": "python3"
  },
  "language_info": {
   "codemirror_mode": {
    "name": "ipython",
    "version": 3
   },
   "file_extension": ".py",
   "mimetype": "text/x-python",
   "name": "python",
   "nbconvert_exporter": "python",
   "pygments_lexer": "ipython3",
   "version": "3.8.3"
  }
 },
 "nbformat": 4,
 "nbformat_minor": 1
}